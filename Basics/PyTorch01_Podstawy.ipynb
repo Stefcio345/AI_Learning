{
 "cells": [
  {
   "cell_type": "code",
   "execution_count": 83,
   "id": "c32f3599",
   "metadata": {},
   "outputs": [],
   "source": [
    "import torch\n",
    "import pandas as pd\n",
    "import numpy as np\n",
    "import matplotlib as plt"
   ]
  },
  {
   "cell_type": "code",
   "execution_count": 1,
   "id": "5be0834d",
   "metadata": {},
   "outputs": [
    {
     "name": "stdout",
     "output_type": "stream",
     "text": [
      "Sat Jun 24 02:53:44 2023       \n",
      "+---------------------------------------------------------------------------------------+\n",
      "| NVIDIA-SMI 531.18                 Driver Version: 531.18       CUDA Version: 12.1     |\n",
      "|-----------------------------------------+----------------------+----------------------+\n",
      "| GPU  Name                      TCC/WDDM | Bus-Id        Disp.A | Volatile Uncorr. ECC |\n",
      "| Fan  Temp  Perf            Pwr:Usage/Cap|         Memory-Usage | GPU-Util  Compute M. |\n",
      "|                                         |                      |               MIG M. |\n",
      "|=========================================+======================+======================|\n",
      "|   0  NVIDIA GeForce RTX 3070       WDDM | 00000000:08:00.0  On |                  N/A |\n",
      "|  0%   58C    P3               50W / 270W|   2114MiB /  8192MiB |     36%      Default |\n",
      "|                                         |                      |                  N/A |\n",
      "+-----------------------------------------+----------------------+----------------------+\n",
      "                                                                                         \n",
      "+---------------------------------------------------------------------------------------+\n",
      "| Processes:                                                                            |\n",
      "|  GPU   GI   CI        PID   Type   Process name                            GPU Memory |\n",
      "|        ID   ID                                                             Usage      |\n",
      "|=======================================================================================|\n",
      "|    0   N/A  N/A      3188    C+G   ...nt.CBS_cw5n1h2txyewy\\SearchHost.exe    N/A      |\n",
      "|    0   N/A  N/A      5472    C+G   ...2txyewy\\StartMenuExperienceHost.exe    N/A      |\n",
      "|    0   N/A  N/A      7620    C+G   C:\\Windows\\explorer.exe                   N/A      |\n",
      "|    0   N/A  N/A     13548    C+G   ...CBS_cw5n1h2txyewy\\TextInputHost.exe    N/A      |\n",
      "|    0   N/A  N/A     13568    C+G   ...cal\\Vivaldi\\Application\\vivaldi.exe    N/A      |\n",
      "|    0   N/A  N/A     14076    C+G   ...GeForce Experience\\NVIDIA Share.exe    N/A      |\n",
      "|    0   N/A  N/A     14956    C+G   ...on\\wallpaper_engine\\wallpaper32.exe    N/A      |\n",
      "|    0   N/A  N/A     15372    C+G   ...auncher\\Autodesk Access UI Host.exe    N/A      |\n",
      "|    0   N/A  N/A     16628    C+G   ... Synapse 3 Host\\Razer Synapse 3.exe    N/A      |\n",
      "|    0   N/A  N/A     16908    C+G   ...siveControlPanel\\SystemSettings.exe    N/A      |\n",
      "|    0   N/A  N/A     17372    C+G   ...\\cef\\cef.win7x64\\steamwebhelper.exe    N/A      |\n",
      "|    0   N/A  N/A     17744    C+G   ...\\Programs\\signal-desktop\\Signal.exe    N/A      |\n",
      "|    0   N/A  N/A     19512    C+G   ...__8wekyb3d8bbwe\\WindowsTerminal.exe    N/A      |\n",
      "|    0   N/A  N/A     20400    C+G   ...5n1h2txyewy\\ShellExperienceHost.exe    N/A      |\n",
      "|    0   N/A  N/A     20840    C+G   ...R5HYU3DG4LSPHFFJA3TYUKAOA\\DeepL.exe    N/A      |\n",
      "|    0   N/A  N/A     21188    C+G   ...on\\114.0.1823.51\\msedgewebview2.exe    N/A      |\n",
      "|    0   N/A  N/A     23444    C+G   ...al\\Discord\\app-1.0.9013\\Discord.exe    N/A      |\n",
      "+---------------------------------------------------------------------------------------+\n"
     ]
    }
   ],
   "source": [
    "!nvidia-smi"
   ]
  },
  {
   "cell_type": "markdown",
   "id": "a7909dd5",
   "metadata": {},
   "source": [
    "# <span style='color:black ' size='50'>Tensory</span>"
   ]
  },
  {
   "cell_type": "markdown",
   "id": "bbc2b2ec",
   "metadata": {},
   "source": [
    "### <span style='color:black ' size='50'>Skalarny</span>"
   ]
  },
  {
   "cell_type": "code",
   "execution_count": 8,
   "id": "b0508fbd",
   "metadata": {},
   "outputs": [
    {
     "data": {
      "text/plain": [
       "tensor(7)"
      ]
     },
     "execution_count": 8,
     "metadata": {},
     "output_type": "execute_result"
    }
   ],
   "source": [
    "#Skalarny\n",
    "scalar = torch.tensor(7)\n",
    "scalar"
   ]
  },
  {
   "cell_type": "code",
   "execution_count": 7,
   "id": "92b300e7",
   "metadata": {},
   "outputs": [
    {
     "data": {
      "text/plain": [
       "0"
      ]
     },
     "execution_count": 7,
     "metadata": {},
     "output_type": "execute_result"
    }
   ],
   "source": [
    "scalar.ndim"
   ]
  },
  {
   "cell_type": "markdown",
   "id": "df76f2f1",
   "metadata": {},
   "source": [
    "### <span style='color:black ' size='50'>Vektor</span>"
   ]
  },
  {
   "cell_type": "code",
   "execution_count": 9,
   "id": "07768674",
   "metadata": {},
   "outputs": [
    {
     "data": {
      "text/plain": [
       "tensor([1, 3])"
      ]
     },
     "execution_count": 9,
     "metadata": {},
     "output_type": "execute_result"
    }
   ],
   "source": [
    "vector = torch.tensor([1, 3])\n",
    "vector"
   ]
  },
  {
   "cell_type": "code",
   "execution_count": 13,
   "id": "9182cd11",
   "metadata": {},
   "outputs": [
    {
     "data": {
      "text/plain": [
       "1"
      ]
     },
     "execution_count": 13,
     "metadata": {},
     "output_type": "execute_result"
    }
   ],
   "source": [
    "vector.ndim"
   ]
  },
  {
   "cell_type": "markdown",
   "id": "48e9e31b",
   "metadata": {},
   "source": [
    "### <span style='color:black ' size='50'>Matryca</span>"
   ]
  },
  {
   "cell_type": "code",
   "execution_count": 15,
   "id": "b2eb8f4c",
   "metadata": {},
   "outputs": [
    {
     "data": {
      "text/plain": [
       "tensor([[1, 2],\n",
       "        [3, 4]])"
      ]
     },
     "execution_count": 15,
     "metadata": {},
     "output_type": "execute_result"
    }
   ],
   "source": [
    "matrix = torch.tensor([[1,2],[3,4]])\n",
    "matrix"
   ]
  },
  {
   "cell_type": "code",
   "execution_count": 16,
   "id": "b89d2344",
   "metadata": {},
   "outputs": [
    {
     "data": {
      "text/plain": [
       "2"
      ]
     },
     "execution_count": 16,
     "metadata": {},
     "output_type": "execute_result"
    }
   ],
   "source": [
    "matrix.ndim"
   ]
  },
  {
   "cell_type": "markdown",
   "id": "fa6299e5",
   "metadata": {},
   "source": [
    "### <span style='color:black ' size='50'>Randomowe tensory</span>"
   ]
  },
  {
   "cell_type": "code",
   "execution_count": 6,
   "id": "64ab609a",
   "metadata": {},
   "outputs": [
    {
     "data": {
      "text/plain": [
       "tensor([[[0.2209, 0.2726, 0.3291],\n",
       "         [0.8909, 0.8335, 0.2135],\n",
       "         [0.4172, 0.2142, 0.3592]],\n",
       "\n",
       "        [[0.2635, 0.0239, 0.6920],\n",
       "         [0.3548, 0.1151, 0.9540],\n",
       "         [0.7550, 0.8017, 0.3410]],\n",
       "\n",
       "        [[0.5658, 0.9401, 0.3630],\n",
       "         [0.1132, 0.6586, 0.7873],\n",
       "         [0.1706, 0.7017, 0.7500]]])"
      ]
     },
     "execution_count": 6,
     "metadata": {},
     "output_type": "execute_result"
    }
   ],
   "source": [
    "random_tensor = torch.rand(3,3,3)\n",
    "random_tensor"
   ]
  },
  {
   "cell_type": "code",
   "execution_count": 4,
   "id": "76584180",
   "metadata": {},
   "outputs": [
    {
     "data": {
      "text/plain": [
       "tensor([[[0.1862, 0.7520, 0.4320,  ..., 0.5461, 0.4416, 0.6353],\n",
       "         [0.1552, 0.3442, 0.5062,  ..., 0.2222, 0.3910, 0.0276],\n",
       "         [0.5893, 0.5126, 0.4871,  ..., 0.9916, 0.9317, 0.2499],\n",
       "         ...,\n",
       "         [0.1382, 0.7348, 0.7144,  ..., 0.7222, 0.6239, 0.8184],\n",
       "         [0.6936, 0.0467, 0.1469,  ..., 0.0320, 0.8939, 0.2147],\n",
       "         [0.0965, 0.3339, 0.3700,  ..., 0.5270, 0.3162, 0.3604]],\n",
       "\n",
       "        [[0.5977, 0.1610, 0.4992,  ..., 0.5961, 0.1828, 0.0780],\n",
       "         [0.5214, 0.8844, 0.7324,  ..., 0.1144, 0.1508, 0.2853],\n",
       "         [0.0969, 0.0613, 0.4879,  ..., 0.2010, 0.1825, 0.4187],\n",
       "         ...,\n",
       "         [0.1799, 0.9309, 0.4100,  ..., 0.3205, 0.3876, 0.4542],\n",
       "         [0.7733, 0.5536, 0.7058,  ..., 0.8859, 0.6769, 0.1050],\n",
       "         [0.6243, 0.4450, 0.9412,  ..., 0.6814, 0.4957, 0.8920]],\n",
       "\n",
       "        [[0.0222, 0.5046, 0.6308,  ..., 0.2729, 0.5574, 0.7624],\n",
       "         [0.2754, 0.6516, 0.8685,  ..., 0.0702, 0.7225, 0.9108],\n",
       "         [0.4496, 0.2380, 0.4072,  ..., 0.4967, 0.8194, 0.5250],\n",
       "         ...,\n",
       "         [0.5729, 0.8195, 0.0331,  ..., 0.4436, 0.2543, 0.7169],\n",
       "         [0.4112, 0.8212, 0.8375,  ..., 0.8425, 0.4569, 0.5752],\n",
       "         [0.1858, 0.1682, 0.5671,  ..., 0.9438, 0.1688, 0.5391]]])"
      ]
     },
     "execution_count": 4,
     "metadata": {},
     "output_type": "execute_result"
    }
   ],
   "source": [
    "#obraz 256x256\n",
    "random_image_tensor = torch.rand(3, 256, 256)\n",
    "random_image_tensor"
   ]
  },
  {
   "cell_type": "code",
   "execution_count": 7,
   "id": "6e509245",
   "metadata": {},
   "outputs": [
    {
     "data": {
      "text/plain": [
       "torch.float32"
      ]
     },
     "execution_count": 7,
     "metadata": {},
     "output_type": "execute_result"
    }
   ],
   "source": [
    "random_tensor.dtype"
   ]
  },
  {
   "cell_type": "markdown",
   "id": "1832dd4a",
   "metadata": {},
   "source": [
    "### <span style='color:black ' size='50'>Tensory w zakresie</span>"
   ]
  },
  {
   "cell_type": "code",
   "execution_count": 14,
   "id": "00e787ae",
   "metadata": {},
   "outputs": [
    {
     "data": {
      "text/plain": [
       "tensor([0, 2, 4, 6, 8])"
      ]
     },
     "execution_count": 14,
     "metadata": {},
     "output_type": "execute_result"
    }
   ],
   "source": [
    "tensor_range = torch.arange(0,10,2)\n",
    "tensor_range"
   ]
  },
  {
   "cell_type": "code",
   "execution_count": 13,
   "id": "66e505bb",
   "metadata": {},
   "outputs": [
    {
     "data": {
      "text/plain": [
       "tensor([0, 0, 0, 0, 0])"
      ]
     },
     "execution_count": 13,
     "metadata": {},
     "output_type": "execute_result"
    }
   ],
   "source": [
    "#podobny array\n",
    "alike = torch.zeros_like(tensor_range)\n",
    "alike"
   ]
  },
  {
   "cell_type": "markdown",
   "id": "5d21f0c3",
   "metadata": {},
   "source": [
    "# <span style='color:black ' size='50'>Typy danych</span>"
   ]
  },
  {
   "cell_type": "code",
   "execution_count": 24,
   "id": "0dee9156",
   "metadata": {},
   "outputs": [
    {
     "data": {
      "text/plain": [
       "torch.float32"
      ]
     },
     "execution_count": 24,
     "metadata": {},
     "output_type": "execute_result"
    }
   ],
   "source": [
    "float_32_tensor = torch.tensor([1.,2.,3.,4.,5.],\n",
    "                               dtype=None, #float32, float16, float64\n",
    "                               device=None, #'cuda' or 'cpu'\n",
    "                               requires_grad=False) #Czy śledzić gradient?\n",
    "float_32_tensor.dtype"
   ]
  },
  {
   "cell_type": "code",
   "execution_count": 19,
   "id": "8ed049ca",
   "metadata": {},
   "outputs": [
    {
     "data": {
      "text/plain": [
       "tensor([1., 2., 3., 4., 5.], dtype=torch.float16)"
      ]
     },
     "execution_count": 19,
     "metadata": {},
     "output_type": "execute_result"
    }
   ],
   "source": [
    "float_16_tensor = float_32_tensor.type(torch.half)\n",
    "float_16_tensor"
   ]
  },
  {
   "cell_type": "code",
   "execution_count": 25,
   "id": "2410fd86",
   "metadata": {},
   "outputs": [
    {
     "data": {
      "text/plain": [
       "tensor([1., 2., 3., 4., 5.], dtype=torch.float64)"
      ]
     },
     "execution_count": 25,
     "metadata": {},
     "output_type": "execute_result"
    }
   ],
   "source": [
    "float_64_tensor = float_32_tensor.type(torch.double)\n",
    "float_64_tensor"
   ]
  },
  {
   "cell_type": "code",
   "execution_count": 26,
   "id": "99389f9a",
   "metadata": {},
   "outputs": [
    {
     "data": {
      "text/plain": [
       "tensor([ 1.,  4.,  9., 16., 25.], dtype=torch.float64)"
      ]
     },
     "execution_count": 26,
     "metadata": {},
     "output_type": "execute_result"
    }
   ],
   "source": [
    "float_16_tensor*float_64_tensor"
   ]
  },
  {
   "cell_type": "markdown",
   "id": "a3ed125c",
   "metadata": {},
   "source": [
    "# <span style='color:black ' size='50'>Operacje na tensorach</span>"
   ]
  },
  {
   "cell_type": "code",
   "execution_count": 27,
   "id": "fe0fd906",
   "metadata": {},
   "outputs": [
    {
     "data": {
      "text/plain": [
       "tensor([11, 12, 13])"
      ]
     },
     "execution_count": 27,
     "metadata": {},
     "output_type": "execute_result"
    }
   ],
   "source": [
    "tensor = torch.tensor([1,2,3])\n",
    "tensor+10"
   ]
  },
  {
   "cell_type": "code",
   "execution_count": 29,
   "id": "ea345321",
   "metadata": {},
   "outputs": [
    {
     "data": {
      "text/plain": [
       "tensor([2, 4, 6])"
      ]
     },
     "execution_count": 29,
     "metadata": {},
     "output_type": "execute_result"
    }
   ],
   "source": [
    "tensor*2"
   ]
  },
  {
   "cell_type": "code",
   "execution_count": 30,
   "id": "6c5bec70",
   "metadata": {},
   "outputs": [
    {
     "data": {
      "text/plain": [
       "tensor([0.5000, 1.0000, 1.5000])"
      ]
     },
     "execution_count": 30,
     "metadata": {},
     "output_type": "execute_result"
    }
   ],
   "source": [
    "tensor/2"
   ]
  },
  {
   "cell_type": "code",
   "execution_count": 32,
   "id": "6c4ef0d0",
   "metadata": {},
   "outputs": [
    {
     "data": {
      "text/plain": [
       "tensor([2, 4, 6])"
      ]
     },
     "execution_count": 32,
     "metadata": {},
     "output_type": "execute_result"
    }
   ],
   "source": [
    "tensor*2"
   ]
  },
  {
   "cell_type": "code",
   "execution_count": 33,
   "id": "91aff990",
   "metadata": {},
   "outputs": [
    {
     "data": {
      "text/plain": [
       "tensor(14)"
      ]
     },
     "execution_count": 33,
     "metadata": {},
     "output_type": "execute_result"
    }
   ],
   "source": [
    "#Mnożenie matryc\n",
    "torch.matmul(tensor, tensor)"
   ]
  },
  {
   "cell_type": "code",
   "execution_count": 35,
   "id": "5b6c24d1",
   "metadata": {},
   "outputs": [
    {
     "data": {
      "text/plain": [
       "tensor([[1.0194, 0.7340],\n",
       "        [0.6225, 0.4586]])"
      ]
     },
     "execution_count": 35,
     "metadata": {},
     "output_type": "execute_result"
    }
   ],
   "source": [
    "torch.matmul(torch.rand(2,3), torch.rand(3,2))"
   ]
  },
  {
   "cell_type": "code",
   "execution_count": 36,
   "id": "f597ee8d",
   "metadata": {},
   "outputs": [
    {
     "data": {
      "text/plain": [
       "tensor([[0.8142, 1.6575],\n",
       "        [0.7362, 1.6281]])"
      ]
     },
     "execution_count": 36,
     "metadata": {},
     "output_type": "execute_result"
    }
   ],
   "source": [
    "torch.matmul(torch.rand(2,3), torch.rand(2,3).T)"
   ]
  },
  {
   "cell_type": "markdown",
   "id": "7eb08202",
   "metadata": {},
   "source": [
    "### <span style='color:black ' size='50'>Agregacja tensorowa</span>"
   ]
  },
  {
   "cell_type": "code",
   "execution_count": 42,
   "id": "d8758ba4",
   "metadata": {},
   "outputs": [
    {
     "data": {
      "text/plain": [
       "tensor([ 1.,  8., 15., 22., 29., 36., 43., 50., 57., 64., 71., 78., 85., 92.,\n",
       "        99.], dtype=torch.float16)"
      ]
     },
     "execution_count": 42,
     "metadata": {},
     "output_type": "execute_result"
    }
   ],
   "source": [
    "x = torch.arange(1,101,7)\n",
    "x"
   ]
  },
  {
   "cell_type": "code",
   "execution_count": 38,
   "id": "11e53604",
   "metadata": {},
   "outputs": [
    {
     "data": {
      "text/plain": [
       "tensor(99)"
      ]
     },
     "execution_count": 38,
     "metadata": {},
     "output_type": "execute_result"
    }
   ],
   "source": [
    "torch.max(x)"
   ]
  },
  {
   "cell_type": "code",
   "execution_count": 39,
   "id": "39ef7cbe",
   "metadata": {},
   "outputs": [
    {
     "data": {
      "text/plain": [
       "tensor(1)"
      ]
     },
     "execution_count": 39,
     "metadata": {},
     "output_type": "execute_result"
    }
   ],
   "source": [
    "torch.min(x)"
   ]
  },
  {
   "cell_type": "code",
   "execution_count": 45,
   "id": "df017a42",
   "metadata": {},
   "outputs": [
    {
     "data": {
      "text/plain": [
       "tensor(50., dtype=torch.float16)"
      ]
     },
     "execution_count": 45,
     "metadata": {},
     "output_type": "execute_result"
    }
   ],
   "source": [
    "torch.mean(x.type(torch.float16))"
   ]
  },
  {
   "cell_type": "code",
   "execution_count": 46,
   "id": "8e9a87b3",
   "metadata": {},
   "outputs": [
    {
     "data": {
      "text/plain": [
       "tensor(750., dtype=torch.float16)"
      ]
     },
     "execution_count": 46,
     "metadata": {},
     "output_type": "execute_result"
    }
   ],
   "source": [
    "torch.sum(x)"
   ]
  },
  {
   "cell_type": "code",
   "execution_count": 48,
   "id": "83efedd1",
   "metadata": {},
   "outputs": [
    {
     "data": {
      "text/plain": [
       "tensor(0)"
      ]
     },
     "execution_count": 48,
     "metadata": {},
     "output_type": "execute_result"
    }
   ],
   "source": [
    "#Index min i max\n",
    "x.argmin()"
   ]
  },
  {
   "cell_type": "code",
   "execution_count": 49,
   "id": "fe84a07f",
   "metadata": {},
   "outputs": [
    {
     "data": {
      "text/plain": [
       "tensor(14)"
      ]
     },
     "execution_count": 49,
     "metadata": {},
     "output_type": "execute_result"
    }
   ],
   "source": [
    "x.argmax()"
   ]
  },
  {
   "cell_type": "markdown",
   "id": "7801ad51",
   "metadata": {},
   "source": [
    "### <span style='color:black ' size='50'>Modyfikacja tensorów</span>"
   ]
  },
  {
   "cell_type": "code",
   "execution_count": 56,
   "id": "23fa6d9e",
   "metadata": {},
   "outputs": [
    {
     "data": {
      "text/plain": [
       "tensor([[ 1.,  8., 15.],\n",
       "        [22., 29., 36.],\n",
       "        [43., 50., 57.],\n",
       "        [64., 71., 78.],\n",
       "        [85., 92., 99.]], dtype=torch.float16)"
      ]
     },
     "execution_count": 56,
     "metadata": {},
     "output_type": "execute_result"
    }
   ],
   "source": [
    "#zmiana kształtu\n",
    "x.resize(5,3)"
   ]
  },
  {
   "cell_type": "code",
   "execution_count": 60,
   "id": "e1c78a0d",
   "metadata": {},
   "outputs": [
    {
     "data": {
      "text/plain": [
       "tensor([[ 1.,  1.,  1.,  1.],\n",
       "        [ 8.,  8.,  8.,  8.],\n",
       "        [15., 15., 15., 15.],\n",
       "        [22., 22., 22., 22.],\n",
       "        [29., 29., 29., 29.],\n",
       "        [36., 36., 36., 36.],\n",
       "        [43., 43., 43., 43.],\n",
       "        [50., 50., 50., 50.],\n",
       "        [57., 57., 57., 57.],\n",
       "        [64., 64., 64., 64.],\n",
       "        [71., 71., 71., 71.],\n",
       "        [78., 78., 78., 78.],\n",
       "        [85., 85., 85., 85.],\n",
       "        [92., 92., 92., 92.],\n",
       "        [99., 99., 99., 99.]], dtype=torch.float16)"
      ]
     },
     "execution_count": 60,
     "metadata": {},
     "output_type": "execute_result"
    }
   ],
   "source": [
    "#Łączenie tensorów\n",
    "torch.stack([x, x, x, x], dim=1)"
   ]
  },
  {
   "cell_type": "code",
   "execution_count": 64,
   "id": "78316a7e",
   "metadata": {},
   "outputs": [
    {
     "data": {
      "text/plain": [
       "torch.Size([1, 15])"
      ]
     },
     "execution_count": 64,
     "metadata": {},
     "output_type": "execute_result"
    }
   ],
   "source": [
    "x.reshape(1, 15).shape"
   ]
  },
  {
   "cell_type": "code",
   "execution_count": 69,
   "id": "a6478658",
   "metadata": {},
   "outputs": [
    {
     "data": {
      "text/plain": [
       "torch.Size([15])"
      ]
     },
     "execution_count": 69,
     "metadata": {},
     "output_type": "execute_result"
    }
   ],
   "source": [
    "x.reshape(1, 15).squeeze().shape"
   ]
  },
  {
   "cell_type": "code",
   "execution_count": 74,
   "id": "766ab654",
   "metadata": {},
   "outputs": [
    {
     "data": {
      "text/plain": [
       "torch.Size([1, 15, 1])"
      ]
     },
     "execution_count": 74,
     "metadata": {},
     "output_type": "execute_result"
    }
   ],
   "source": [
    "x.reshape(1, 15).unsqueeze(2).shape"
   ]
  },
  {
   "cell_type": "code",
   "execution_count": 78,
   "id": "b0cdbd33",
   "metadata": {},
   "outputs": [
    {
     "data": {
      "text/plain": [
       "torch.Size([1, 2, 3])"
      ]
     },
     "execution_count": 78,
     "metadata": {},
     "output_type": "execute_result"
    }
   ],
   "source": [
    "#Permutacja\n",
    "x = torch.rand(1,2,3)\n",
    "x.size()"
   ]
  },
  {
   "cell_type": "code",
   "execution_count": 80,
   "id": "6c9a7bd3",
   "metadata": {},
   "outputs": [
    {
     "data": {
      "text/plain": [
       "torch.Size([3, 2, 1])"
      ]
     },
     "execution_count": 80,
     "metadata": {},
     "output_type": "execute_result"
    }
   ],
   "source": [
    "torch.permute(x, (2,1,0)).shape"
   ]
  },
  {
   "cell_type": "markdown",
   "id": "cba38c43",
   "metadata": {},
   "source": [
    "# <span style='color:black ' size='50'>Seedy</span>"
   ]
  },
  {
   "cell_type": "code",
   "execution_count": 82,
   "id": "dbf18f2e",
   "metadata": {},
   "outputs": [
    {
     "data": {
      "text/plain": [
       "tensor([[False, False],\n",
       "        [False, False]])"
      ]
     },
     "execution_count": 82,
     "metadata": {},
     "output_type": "execute_result"
    }
   ],
   "source": [
    "a = torch.rand(2,2)\n",
    "b = torch.rand(2,2)\n",
    "a == b"
   ]
  },
  {
   "cell_type": "code",
   "execution_count": 86,
   "id": "14723f51",
   "metadata": {},
   "outputs": [
    {
     "data": {
      "text/plain": [
       "tensor([[True, True],\n",
       "        [True, True]])"
      ]
     },
     "execution_count": 86,
     "metadata": {},
     "output_type": "execute_result"
    }
   ],
   "source": [
    "torch.manual_seed(42)\n",
    "c = torch.rand(2,2)\n",
    "torch.manual_seed(42)\n",
    "d = torch.rand(2,2)\n",
    "c == d"
   ]
  },
  {
   "cell_type": "markdown",
   "id": "0392ba10",
   "metadata": {},
   "source": [
    "# <span style='color:black ' size='50'>Korzystanie z GPU</span>"
   ]
  },
  {
   "cell_type": "code",
   "execution_count": 88,
   "id": "027e55b7",
   "metadata": {},
   "outputs": [
    {
     "data": {
      "text/plain": [
       "True"
      ]
     },
     "execution_count": 88,
     "metadata": {},
     "output_type": "execute_result"
    }
   ],
   "source": [
    "torch.cuda.is_available()"
   ]
  },
  {
   "cell_type": "code",
   "execution_count": 89,
   "id": "9a5e895f",
   "metadata": {},
   "outputs": [
    {
     "data": {
      "text/plain": [
       "'cuda'"
      ]
     },
     "execution_count": 89,
     "metadata": {},
     "output_type": "execute_result"
    }
   ],
   "source": [
    "device = 'cuda' if torch.cuda.is_available() else 'cpu'\n",
    "device"
   ]
  },
  {
   "cell_type": "code",
   "execution_count": 90,
   "id": "3a72f935",
   "metadata": {},
   "outputs": [
    {
     "data": {
      "text/plain": [
       "1"
      ]
     },
     "execution_count": 90,
     "metadata": {},
     "output_type": "execute_result"
    }
   ],
   "source": [
    "torch.cuda.device_count()"
   ]
  },
  {
   "cell_type": "code",
   "execution_count": 92,
   "id": "eae03eba",
   "metadata": {},
   "outputs": [
    {
     "data": {
      "text/plain": [
       "device(type='cpu')"
      ]
     },
     "execution_count": 92,
     "metadata": {},
     "output_type": "execute_result"
    }
   ],
   "source": [
    "tensor = torch.tensor([1,2,3])\n",
    "tensor.device"
   ]
  },
  {
   "cell_type": "code",
   "execution_count": 93,
   "id": "d7c3996d",
   "metadata": {},
   "outputs": [
    {
     "data": {
      "text/plain": [
       "device(type='cuda', index=0)"
      ]
     },
     "execution_count": 93,
     "metadata": {},
     "output_type": "execute_result"
    }
   ],
   "source": [
    "tensor = tensor.to(device)\n",
    "tensor.device"
   ]
  },
  {
   "cell_type": "code",
   "execution_count": 96,
   "id": "9811106c",
   "metadata": {},
   "outputs": [
    {
     "data": {
      "text/plain": [
       "device(type='cpu')"
      ]
     },
     "execution_count": 96,
     "metadata": {},
     "output_type": "execute_result"
    }
   ],
   "source": [
    "tensor.cpu().device"
   ]
  },
  {
   "cell_type": "code",
   "execution_count": null,
   "id": "d933373f",
   "metadata": {},
   "outputs": [],
   "source": []
  }
 ],
 "metadata": {
  "kernelspec": {
   "display_name": "Python 3 (ipykernel)",
   "language": "python",
   "name": "python3"
  },
  "language_info": {
   "codemirror_mode": {
    "name": "ipython",
    "version": 3
   },
   "file_extension": ".py",
   "mimetype": "text/x-python",
   "name": "python",
   "nbconvert_exporter": "python",
   "pygments_lexer": "ipython3",
   "version": "3.10.6"
  }
 },
 "nbformat": 4,
 "nbformat_minor": 5
}
